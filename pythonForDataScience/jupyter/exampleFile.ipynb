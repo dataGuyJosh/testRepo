{
 "cells": [
  {
   "cell_type": "markdown",
   "id": "795242ab",
   "metadata": {},
   "source": [
    "# Hello World"
   ]
  },
  {
   "cell_type": "code",
   "execution_count": 44,
   "id": "e2c906a7",
   "metadata": {},
   "outputs": [
    {
     "name": "stdout",
     "output_type": "stream",
     "text": [
      "Hello world!\n"
     ]
    }
   ],
   "source": [
    "# printing Hello world!\n",
    "print('Hello world!')"
   ]
  },
  {
   "cell_type": "markdown",
   "id": "fb2fa333",
   "metadata": {},
   "source": [
    "# Data Types"
   ]
  },
  {
   "cell_type": "code",
   "execution_count": 51,
   "id": "4614f20d",
   "metadata": {},
   "outputs": [
    {
     "data": {
      "text/plain": [
       "float"
      ]
     },
     "execution_count": 51,
     "metadata": {},
     "output_type": "execute_result"
    }
   ],
   "source": [
    "# integer\n",
    "type(1)"
   ]
  },
  {
   "cell_type": "code",
   "execution_count": 52,
   "id": "820a0cca",
   "metadata": {},
   "outputs": [
    {
     "data": {
      "text/plain": [
       "float"
      ]
     },
     "execution_count": 52,
     "metadata": {},
     "output_type": "execute_result"
    }
   ],
   "source": [
    "# float\n",
    "type(2.4)"
   ]
  },
  {
   "cell_type": "code",
   "execution_count": 53,
   "id": "c4e434b6",
   "metadata": {},
   "outputs": [
    {
     "data": {
      "text/plain": [
       "3"
      ]
     },
     "execution_count": 53,
     "metadata": {},
     "output_type": "execute_result"
    }
   ],
   "source": [
    "# maths operation\n",
    "1 + 2"
   ]
  },
  {
   "cell_type": "code",
   "execution_count": 54,
   "id": "4af0e95f",
   "metadata": {},
   "outputs": [
    {
     "data": {
      "text/plain": [
       "bool"
      ]
     },
     "execution_count": 54,
     "metadata": {},
     "output_type": "execute_result"
    }
   ],
   "source": [
    "# boolean\n",
    "type(True)"
   ]
  },
  {
   "cell_type": "code",
   "execution_count": 55,
   "id": "cb70356f",
   "metadata": {},
   "outputs": [
    {
     "data": {
      "text/plain": [
       "str"
      ]
     },
     "execution_count": 55,
     "metadata": {},
     "output_type": "execute_result"
    }
   ],
   "source": [
    "# string\n",
    "# note that there's no difference in python between single and double quoutes (' vs \")\n",
    "type('oof')"
   ]
  },
  {
   "cell_type": "code",
   "execution_count": 61,
   "id": "9a084bcd",
   "metadata": {},
   "outputs": [
    {
     "name": "stdout",
     "output_type": "stream",
     "text": [
      "HELLO WORLD!\n",
      "hello world!\n",
      "Hello World!\n"
     ]
    }
   ],
   "source": [
    "# in jupyter notebook you don't need to use print for the last line of a code block\n",
    "# but this isn't true for regular python interpreters so don't make a habbit of it\n",
    "print('Hello world!'.upper())\n",
    "print('Hello world!'.lower())\n",
    "print('Hello world!'.title())"
   ]
  },
  {
   "cell_type": "code",
   "execution_count": 69,
   "id": "828b27a3",
   "metadata": {},
   "outputs": [
    {
     "name": "stdout",
     "output_type": "stream",
     "text": [
      "3\n",
      "Hellu wurld!\n"
     ]
    }
   ],
   "source": [
    "# count occurence of a character\n",
    "print('Hello world!'.count('l'))\n",
    "# replace occurences of a character\n",
    "print('Hello world!'.replace('o','u'))"
   ]
  },
  {
   "cell_type": "markdown",
   "id": "e52d2bc9",
   "metadata": {},
   "source": [
    "# Variables"
   ]
  },
  {
   "cell_type": "code",
   "execution_count": 71,
   "id": "00cb5032",
   "metadata": {},
   "outputs": [],
   "source": [
    "# note that we use double quotes to avoid escaping the single quote, this is equivalent to\n",
    "# 'I\\'m learning python and it\\'s fun!'\n",
    "message_1=\"I'm learning python\"\n",
    "message_2=\"and it's fun!\""
   ]
  },
  {
   "cell_type": "code",
   "execution_count": 75,
   "id": "f99911ae",
   "metadata": {},
   "outputs": [
    {
     "name": "stdout",
     "output_type": "stream",
     "text": [
      "I'm learning python and it's fun!\n"
     ]
    }
   ],
   "source": [
    "print(message_1+' '+message_2)"
   ]
  }
 ],
 "metadata": {
  "kernelspec": {
   "display_name": "Python 3 (ipykernel)",
   "language": "python",
   "name": "python3"
  },
  "language_info": {
   "codemirror_mode": {
    "name": "ipython",
    "version": 3
   },
   "file_extension": ".py",
   "mimetype": "text/x-python",
   "name": "python",
   "nbconvert_exporter": "python",
   "pygments_lexer": "ipython3",
   "version": "3.9.7"
  }
 },
 "nbformat": 4,
 "nbformat_minor": 5
}
