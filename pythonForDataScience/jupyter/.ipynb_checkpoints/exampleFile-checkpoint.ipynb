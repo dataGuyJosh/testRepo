{
 "cells": [
  {
   "cell_type": "markdown",
   "id": "64c56e98",
   "metadata": {},
   "source": [
    "# Hello World"
   ]
  },
  {
   "cell_type": "code",
   "execution_count": 20,
   "id": "c33dca7d",
   "metadata": {},
   "outputs": [
    {
     "name": "stdout",
     "output_type": "stream",
     "text": [
      "hi\n"
     ]
    }
   ],
   "source": [
    "print('hi')"
   ]
  },
  {
   "cell_type": "code",
   "execution_count": 7,
   "id": "e2c906a7",
   "metadata": {},
   "outputs": [
    {
     "name": "stdout",
     "output_type": "stream",
     "text": [
      "Hello world!\n"
     ]
    }
   ],
   "source": [
    "# printing Hello world!\n",
    "print('Hello world!')"
   ]
  },
  {
   "cell_type": "markdown",
   "id": "fb2fa333",
   "metadata": {},
   "source": [
    "# Data Types"
   ]
  },
  {
   "cell_type": "code",
   "execution_count": 8,
   "id": "4614f20d",
   "metadata": {},
   "outputs": [
    {
     "data": {
      "text/plain": [
       "int"
      ]
     },
     "execution_count": 8,
     "metadata": {},
     "output_type": "execute_result"
    }
   ],
   "source": [
    "# integer\n",
    "type(1)"
   ]
  },
  {
   "cell_type": "code",
   "execution_count": 9,
   "id": "820a0cca",
   "metadata": {},
   "outputs": [
    {
     "data": {
      "text/plain": [
       "float"
      ]
     },
     "execution_count": 9,
     "metadata": {},
     "output_type": "execute_result"
    }
   ],
   "source": [
    "# float\n",
    "type(2.4)"
   ]
  },
  {
   "cell_type": "code",
   "execution_count": 10,
   "id": "c4e434b6",
   "metadata": {},
   "outputs": [
    {
     "data": {
      "text/plain": [
       "3"
      ]
     },
     "execution_count": 10,
     "metadata": {},
     "output_type": "execute_result"
    }
   ],
   "source": [
    "# maths operation\n",
    "1 + 2"
   ]
  },
  {
   "cell_type": "code",
   "execution_count": 11,
   "id": "4af0e95f",
   "metadata": {},
   "outputs": [
    {
     "data": {
      "text/plain": [
       "bool"
      ]
     },
     "execution_count": 11,
     "metadata": {},
     "output_type": "execute_result"
    }
   ],
   "source": [
    "# boolean\n",
    "type(True)"
   ]
  },
  {
   "cell_type": "code",
   "execution_count": 12,
   "id": "cb70356f",
   "metadata": {},
   "outputs": [
    {
     "data": {
      "text/plain": [
       "str"
      ]
     },
     "execution_count": 12,
     "metadata": {},
     "output_type": "execute_result"
    }
   ],
   "source": [
    "# string\n",
    "# note that there's little difference in python between single and double quoutes (' vs \")\n",
    "type('oof')"
   ]
  },
  {
   "cell_type": "code",
   "execution_count": 13,
   "id": "9a084bcd",
   "metadata": {},
   "outputs": [
    {
     "name": "stdout",
     "output_type": "stream",
     "text": [
      "HELLO WORLD!\n",
      "hello world!\n",
      "Hello World!\n"
     ]
    }
   ],
   "source": [
    "# in jupyter notebook you don't need to use print for the last line of a code block\n",
    "# but this isn't true for regular python interpreters so don't make a habbit of it\n",
    "print('Hello world!'.upper())\n",
    "print('Hello world!'.lower())\n",
    "print('Hello world!'.title())"
   ]
  },
  {
   "cell_type": "code",
   "execution_count": 21,
   "id": "828b27a3",
   "metadata": {},
   "outputs": [
    {
     "name": "stdout",
     "output_type": "stream",
     "text": [
      "3\n",
      "Hellu wurld!\n"
     ]
    }
   ],
   "source": [
    "# count occurence of a character\n",
    "print('Hello world!'.count('l'))\n",
    "# replace occurences of a character\n",
    "print('Hello world!'.replace('o','u'))"
   ]
  },
  {
   "cell_type": "markdown",
   "id": "e52d2bc9",
   "metadata": {},
   "source": [
    "# Variables"
   ]
  },
  {
   "cell_type": "code",
   "execution_count": 15,
   "id": "00cb5032",
   "metadata": {},
   "outputs": [],
   "source": [
    "# note that we use double quotes to avoid escaping the single quote, this is equivalent to\n",
    "# 'I\\'m learning python and it\\'s fun!'\n",
    "message_1=\"I'm learning python\"\n",
    "message_2=\"and it's fun!\""
   ]
  },
  {
   "cell_type": "code",
   "execution_count": 16,
   "id": "f99911ae",
   "metadata": {},
   "outputs": [
    {
     "name": "stdout",
     "output_type": "stream",
     "text": [
      "I'm learning python and it's fun!\n"
     ]
    }
   ],
   "source": [
    "print(message_1+' '+message_2)"
   ]
  },
  {
   "cell_type": "code",
   "execution_count": 24,
   "id": "0091a40d",
   "metadata": {},
   "outputs": [
    {
     "data": {
      "text/plain": [
       "\"I'm learning python and it's fun!\""
      ]
     },
     "execution_count": 24,
     "metadata": {},
     "output_type": "execute_result"
    }
   ],
   "source": [
    "newMessage=message_1+' '+message_2\n",
    "newMessage"
   ]
  },
  {
   "cell_type": "code",
   "execution_count": 32,
   "id": "a4d136b3",
   "metadata": {
    "scrolled": true
   },
   "outputs": [
    {
     "data": {
      "text/plain": [
       "\"I'm learning python and it's fun!\""
      ]
     },
     "execution_count": 32,
     "metadata": {},
     "output_type": "execute_result"
    }
   ],
   "source": [
    "#use variables in strings using f''\n",
    "f'{message_1} (from a youtube video) {message_2}'"
   ]
  },
  {
   "cell_type": "markdown",
   "id": "c631c48d",
   "metadata": {},
   "source": [
    "# Lists"
   ]
  },
  {
   "cell_type": "code",
   "execution_count": 35,
   "id": "ce35907b",
   "metadata": {},
   "outputs": [
    {
     "data": {
      "text/plain": [
       "['United States', 'India', 'China', 'Brazil']"
      ]
     },
     "execution_count": 35,
     "metadata": {},
     "output_type": "execute_result"
    }
   ],
   "source": [
    "countries = ['United States','India','China','Brazil']\n",
    "countries"
   ]
  },
  {
   "cell_type": "code",
   "execution_count": 39,
   "id": "143ee5d9",
   "metadata": {},
   "outputs": [
    {
     "data": {
      "text/plain": [
       "['foo bar bar', 69, True]"
      ]
     },
     "execution_count": 39,
     "metadata": {},
     "output_type": "execute_result"
    }
   ],
   "source": [
    "#lists don't need to be of a single type\n",
    "randomStuff=['foo bar bar',69,True]\n",
    "randomStuff"
   ]
  },
  {
   "cell_type": "code",
   "execution_count": 47,
   "id": "fd146a6f",
   "metadata": {},
   "outputs": [
    {
     "data": {
      "text/plain": [
       "'China'"
      ]
     },
     "execution_count": 47,
     "metadata": {},
     "output_type": "execute_result"
    }
   ],
   "source": [
    "# elements of a list can be accessed via index, negative numbers can be used to count backwards\n",
    "# returns the 2nd last element in the list\n",
    "countries[-2]"
   ]
  },
  {
   "cell_type": "code",
   "execution_count": 51,
   "id": "e464d4cb",
   "metadata": {},
   "outputs": [
    {
     "data": {
      "text/plain": [
       "['China', 'Brazil']"
      ]
     },
     "execution_count": 51,
     "metadata": {},
     "output_type": "execute_result"
    }
   ],
   "source": [
    "# Slicing --> selecting a subset of a list\n",
    "# list[start:stop] returns elements of \"list\" between \"start\" (inclusive) and \"stop\" (exclusive)\n",
    "# the following returns elements at index 2 and 3 (the 3rd and 4th element)\n",
    "countries[2:4]"
   ]
  },
  {
   "cell_type": "code",
   "execution_count": 54,
   "id": "eb04744b",
   "metadata": {},
   "outputs": [
    {
     "data": {
      "text/plain": [
       "['India', 'China', 'Brazil']"
      ]
     },
     "execution_count": 54,
     "metadata": {},
     "output_type": "execute_result"
    }
   ],
   "source": [
    "# can also omit the start or stop index to take all\n",
    "# the following returns all elements from index 1 onwards\n",
    "countries[1:]"
   ]
  },
  {
   "cell_type": "markdown",
   "id": "2e625852",
   "metadata": {},
   "source": [
    "## Adding elements to a list"
   ]
  },
  {
   "cell_type": "code",
   "execution_count": 58,
   "id": "7eb22c96",
   "metadata": {},
   "outputs": [
    {
     "data": {
      "text/plain": [
       "['United States', 'India', 'China', 'Brazil', 'Canada']"
      ]
     },
     "execution_count": 58,
     "metadata": {},
     "output_type": "execute_result"
    }
   ],
   "source": [
    "# adding elements to a list is called \"appending\"\n",
    "countries = ['United States','India','China','Brazil']\n",
    "# append \"Canada\" to the end of the list\n",
    "countries.append('Canada')\n",
    "countries"
   ]
  },
  {
   "cell_type": "code",
   "execution_count": 59,
   "id": "6027328e",
   "metadata": {},
   "outputs": [
    {
     "data": {
      "text/plain": [
       "['Spain', 'United States', 'India', 'China', 'Brazil']"
      ]
     },
     "execution_count": 59,
     "metadata": {},
     "output_type": "execute_result"
    }
   ],
   "source": [
    "# you can also \"insert\" elements as specific indexes\n",
    "countries = ['United States','India','China','Brazil']\n",
    "# insert \"Spain\" at index 0\n",
    "countries.insert(0,'Spain')\n",
    "countries"
   ]
  },
  {
   "cell_type": "code",
   "execution_count": 62,
   "id": "32ebaf30",
   "metadata": {},
   "outputs": [
    {
     "data": {
      "text/plain": [
       "['United States', 'India', 'China', 'Brazil', 'UK', 'Germany', 'Austria']"
      ]
     },
     "execution_count": 62,
     "metadata": {},
     "output_type": "execute_result"
    }
   ],
   "source": [
    "# it's possible to join two lists\n",
    "countries1 = ['United States','India','China','Brazil']\n",
    "countries2 = ['UK','Germany','Austria']\n",
    "# add lists one after another (first list at the top)\n",
    "countries1 + countries2"
   ]
  },
  {
   "cell_type": "code",
   "execution_count": 64,
   "id": "7f301dbb",
   "metadata": {},
   "outputs": [
    {
     "data": {
      "text/plain": [
       "[['United States', 'India', 'China', 'Brazil'], ['UK', 'Germany', 'Austria']]"
      ]
     },
     "execution_count": 64,
     "metadata": {},
     "output_type": "execute_result"
    }
   ],
   "source": [
    "# lists can be nested\n",
    "nestedCountriesList = [countries1,countries2]\n",
    "nestedCountriesList"
   ]
  },
  {
   "cell_type": "code",
   "execution_count": 72,
   "id": "cc4973be",
   "metadata": {},
   "outputs": [
    {
     "data": {
      "text/plain": [
       "['India', 'China', 'Brazil']"
      ]
     },
     "execution_count": 72,
     "metadata": {},
     "output_type": "execute_result"
    }
   ],
   "source": [
    "# elements can be removed from a list\n",
    "countries = ['United States','India','China','Brazil']\n",
    "# remove method --> specify the element\n",
    "countries.remove('United States')\n",
    "countries"
   ]
  },
  {
   "cell_type": "code",
   "execution_count": 74,
   "id": "1ff6e8c4",
   "metadata": {},
   "outputs": [
    {
     "data": {
      "text/plain": [
       "'United States'"
      ]
     },
     "execution_count": 74,
     "metadata": {},
     "output_type": "execute_result"
    }
   ],
   "source": [
    "countries = ['United States','India','China','Brazil']\n",
    "# pop method --> specify the index, returns the element \"popped\"\n",
    "countries.pop(0)"
   ]
  },
  {
   "cell_type": "code",
   "execution_count": 76,
   "id": "1204b7a2",
   "metadata": {},
   "outputs": [],
   "source": [
    "countries = ['United States','India','China','Brazil']\n",
    "# del method --> as pop but does not return the element\n",
    "del countries[0]"
   ]
  }
 ],
 "metadata": {
  "kernelspec": {
   "display_name": "Python 3 (ipykernel)",
   "language": "python",
   "name": "python3"
  },
  "language_info": {
   "codemirror_mode": {
    "name": "ipython",
    "version": 3
   },
   "file_extension": ".py",
   "mimetype": "text/x-python",
   "name": "python",
   "nbconvert_exporter": "python",
   "pygments_lexer": "ipython3",
   "version": "3.9.7"
  }
 },
 "nbformat": 4,
 "nbformat_minor": 5
}
